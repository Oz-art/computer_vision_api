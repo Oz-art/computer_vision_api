{
 "cells": [
  {
   "cell_type": "code",
   "execution_count": 16,
   "metadata": {},
   "outputs": [],
   "source": [
    "import cv2\n",
    "import requests"
   ]
  },
  {
   "cell_type": "code",
   "execution_count": 17,
   "metadata": {},
   "outputs": [],
   "source": [
    "class api_tes:\n",
    "    \n",
    "    def __init__(self, url):\n",
    "        self.url = url\n",
    "        \n",
    "    def call_api(self, mode):\n",
    "        url = self.url\n",
    "        myobj = {\n",
    "                 'mode' : mode,\n",
    "                }\n",
    "\n",
    "        files = {'input_image': open('simple_object_detection/tes.jpg', 'rb')}\n",
    "\n",
    "        x = requests.post(url, data = myobj, files=files,  verify=False)\n",
    "        json_result = x.json()\n",
    "        return json_result"
   ]
  },
  {
   "cell_type": "code",
   "execution_count": 18,
   "metadata": {},
   "outputs": [],
   "source": [
    "api = api_tes(\"http://127.0.0.1:8000/object_detection/api/\")"
   ]
  },
  {
   "cell_type": "markdown",
   "metadata": {},
   "source": [
    "### Execution Time Evaluation"
   ]
  },
  {
   "cell_type": "code",
   "execution_count": 35,
   "metadata": {},
   "outputs": [
    {
     "name": "stdout",
     "output_type": "stream",
     "text": [
      "[Mean Execution Time] Skema 1 :  0.1314366340637207\n"
     ]
    }
   ],
   "source": [
    "num_call = 10\n",
    "total_time = 0\n",
    "for i in range(num_call):\n",
    "    result = api.call_api(1)\n",
    "    execution_time = result[\"execution_time\"]\n",
    "    total_time += execution_time\n",
    "print('[Mean Execution Time] Skema 1 : ', total_time/num_call)"
   ]
  },
  {
   "cell_type": "code",
   "execution_count": 36,
   "metadata": {},
   "outputs": [
    {
     "name": "stdout",
     "output_type": "stream",
     "text": [
      "[Mean Execution Time] Skema 2 :  0.08843120336532592\n"
     ]
    }
   ],
   "source": [
    "num_call = 10\n",
    "total_time = 0\n",
    "for i in range(num_call):\n",
    "    result = api.call_api(2)\n",
    "    execution_time = result[\"execution_time\"]\n",
    "    total_time += execution_time\n",
    "print('[Mean Execution Time] Skema 2 : ', total_time/num_call)"
   ]
  },
  {
   "cell_type": "code",
   "execution_count": null,
   "metadata": {},
   "outputs": [],
   "source": []
  }
 ],
 "metadata": {
  "kernelspec": {
   "display_name": "tes2",
   "language": "python",
   "name": "tes2"
  },
  "language_info": {
   "codemirror_mode": {
    "name": "ipython",
    "version": 3
   },
   "file_extension": ".py",
   "mimetype": "text/x-python",
   "name": "python",
   "nbconvert_exporter": "python",
   "pygments_lexer": "ipython3",
   "version": "3.6.12"
  }
 },
 "nbformat": 4,
 "nbformat_minor": 2
}
