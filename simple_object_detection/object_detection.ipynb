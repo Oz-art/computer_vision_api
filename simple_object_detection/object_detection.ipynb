{
 "cells": [
  {
   "cell_type": "markdown",
   "metadata": {},
   "source": [
    "### Import library"
   ]
  },
  {
   "cell_type": "code",
   "execution_count": 17,
   "metadata": {},
   "outputs": [],
   "source": [
    "import os\n",
    "import cv2\n",
    "import numpy as np"
   ]
  },
  {
   "cell_type": "markdown",
   "metadata": {},
   "source": [
    "### Loading model"
   ]
  },
  {
   "cell_type": "code",
   "execution_count": 18,
   "metadata": {},
   "outputs": [
    {
     "name": "stdout",
     "output_type": "stream",
     "text": [
      "0.0738077163696289\n"
     ]
    }
   ],
   "source": [
    "protoPath = \"MobileNetSSD_deploy.prototxt\"\n",
    "modelPath = \"MobileNetSSD_deploy.caffemodel\"\n",
    "\n",
    "detector = cv2.dnn.readNetFromCaffe(protoPath, modelPath)"
   ]
  },
  {
   "cell_type": "markdown",
   "metadata": {},
   "source": [
    "### Setting Parameter"
   ]
  },
  {
   "cell_type": "code",
   "execution_count": 3,
   "metadata": {},
   "outputs": [],
   "source": [
    "conf_treshold = 0.2\n",
    "CLASSES = [\"background\", \"aeroplane\", \"bicycle\", \"bird\", \"boat\",\n",
    "           \"bottle\", \"bus\", \"car\", \"cat\", \"chair\", \"cow\", \"diningtable\",\n",
    "           \"dog\", \"horse\", \"motorbike\", \"person\", \"pottedplant\", \"sheep\",\n",
    "           \"sofa\", \"train\", \"tvmonitor\"]"
   ]
  },
  {
   "cell_type": "markdown",
   "metadata": {},
   "source": [
    "### Read Input Image"
   ]
  },
  {
   "cell_type": "code",
   "execution_count": 4,
   "metadata": {},
   "outputs": [],
   "source": [
    "frame = cv2.imread('tes.jpg')"
   ]
  },
  {
   "cell_type": "markdown",
   "metadata": {},
   "source": [
    "### Detection Process"
   ]
  },
  {
   "cell_type": "code",
   "execution_count": 25,
   "metadata": {},
   "outputs": [
    {
     "name": "stdout",
     "output_type": "stream",
     "text": [
      "0.14461326599121094\n"
     ]
    }
   ],
   "source": [
    "(h, w) = frame.shape[:2]\n",
    "# numpy array to blob \n",
    "blobPerson = cv2.dnn.blobFromImage(frame, 0.007843, (300, 300), 127.5)\n",
    "\n",
    "detector.setInput(blobPerson)\n",
    "detectedPersons = detector.forward()\n",
    "\n",
    "boxes = []\n",
    "names = []\n",
    "\n",
    "for i in np.arange(0, detectedPersons.shape[2]):\n",
    "    # extract the confidence (i.e., probability) associated with\n",
    "    # the prediction\n",
    "    confidence = detectedPersons[0, 0, i, 2]\n",
    "\n",
    "    # filter out weak detections by ensuring the `confidence` is\n",
    "    # greater than the minimum confidence\n",
    "    if confidence > conf_treshold:\n",
    "        # extract the index of the class label from the\n",
    "        # `detections`, then compute the (x, y)-coordinates of\n",
    "        # the bounding box for the object\n",
    "        idx = int(detectedPersons[0, 0, i, 1])\n",
    "        box = detectedPersons[0, 0, i, 3:7] * np.array([w, h, w, h])\n",
    "        (startX, startY, endX, endY) = box.astype(\"int\")\n",
    "\n",
    "        # draw the prediction on the frame\n",
    "        boxes.append((startX, startY, endX, endY))\n",
    "        names.append(CLASSES[idx])"
   ]
  },
  {
   "cell_type": "code",
   "execution_count": 6,
   "metadata": {},
   "outputs": [
    {
     "data": {
      "text/plain": [
       "[(312, 6, 719, 545), (637, 142, 914, 542), (32, 178, 360, 541)]"
      ]
     },
     "execution_count": 6,
     "metadata": {},
     "output_type": "execute_result"
    }
   ],
   "source": [
    "boxes"
   ]
  },
  {
   "cell_type": "code",
   "execution_count": 7,
   "metadata": {},
   "outputs": [
    {
     "data": {
      "text/plain": [
       "['person', 'person', 'person']"
      ]
     },
     "execution_count": 7,
     "metadata": {},
     "output_type": "execute_result"
    }
   ],
   "source": [
    "names"
   ]
  },
  {
   "cell_type": "markdown",
   "metadata": {},
   "source": [
    "### Define Method plot_box"
   ]
  },
  {
   "cell_type": "code",
   "execution_count": 8,
   "metadata": {},
   "outputs": [],
   "source": [
    "def plot_box(frame, box, text):\n",
    "    overlay = frame.copy()\n",
    "    (H, W) = frame.shape[:2]\n",
    "    box_border = int(W / 400)\n",
    "    font_size = 0.6\n",
    "\n",
    "    (startX, startY, endX, endY) = box\n",
    "\n",
    "    y = startY - 10 if startY - 10 > 10 else startY + 10\n",
    "    yBox = y + 5\n",
    "\n",
    "    cv2.rectangle(overlay, (startX, startY), (endX, endY),\n",
    "      (255, 255, 255), box_border+4)\n",
    "\n",
    "    cv2.rectangle(overlay, (startX, startY), (endX, endY),\n",
    "      (147, 0, 0), box_border+2)\n",
    "\n",
    "\n",
    "    cv2.putText(overlay, text, (startX, y),\n",
    "    cv2.FONT_HERSHEY_SIMPLEX, (0.5*box_border), (0, 0, 0), int(box_border*1))\n",
    "\n",
    "    alpha = 0.6  # Transparency factor.\n",
    "\n",
    "    # Following line overlays transparent rectangle over the image\n",
    "    frame = cv2.addWeighted(overlay, alpha, frame, 1 - alpha, 0)\n",
    "    \n",
    "    return frame\n"
   ]
  },
  {
   "cell_type": "markdown",
   "metadata": {},
   "source": [
    "### Draw Boxes"
   ]
  },
  {
   "cell_type": "code",
   "execution_count": 9,
   "metadata": {},
   "outputs": [],
   "source": [
    "frame_output = frame.copy()\n",
    "for box, name in zip(boxes, names):\n",
    "    frame_output = plot_box(frame_output, box, name)"
   ]
  },
  {
   "cell_type": "markdown",
   "metadata": {},
   "source": [
    "### Save Result"
   ]
  },
  {
   "cell_type": "code",
   "execution_count": 10,
   "metadata": {},
   "outputs": [
    {
     "data": {
      "text/plain": [
       "True"
      ]
     },
     "execution_count": 10,
     "metadata": {},
     "output_type": "execute_result"
    }
   ],
   "source": [
    "cv2.imwrite('result.jpg', frame_output)"
   ]
  },
  {
   "cell_type": "code",
   "execution_count": null,
   "metadata": {},
   "outputs": [],
   "source": []
  }
 ],
 "metadata": {
  "kernelspec": {
   "display_name": "tes2",
   "language": "python",
   "name": "tes2"
  },
  "language_info": {
   "codemirror_mode": {
    "name": "ipython",
    "version": 3
   },
   "file_extension": ".py",
   "mimetype": "text/x-python",
   "name": "python",
   "nbconvert_exporter": "python",
   "pygments_lexer": "ipython3",
   "version": "3.6.12"
  }
 },
 "nbformat": 4,
 "nbformat_minor": 2
}
