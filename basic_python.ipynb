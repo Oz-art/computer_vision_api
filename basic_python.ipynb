{
 "cells": [
  {
   "cell_type": "code",
   "execution_count": 1,
   "metadata": {},
   "outputs": [],
   "source": [
    "import cv2\n",
    "# import opencv"
   ]
  },
  {
   "cell_type": "code",
   "execution_count": 2,
   "metadata": {},
   "outputs": [],
   "source": [
    "import numpy as np"
   ]
  },
  {
   "cell_type": "code",
   "execution_count": 3,
   "metadata": {},
   "outputs": [],
   "source": [
    "image = cv2.imread(\"tes.jpg\")"
   ]
  },
  {
   "cell_type": "code",
   "execution_count": 4,
   "metadata": {},
   "outputs": [],
   "source": [
    "# Draw a diagonal blue line with thickness of 5 px\n",
    "image_2 = cv2.line(image,(0,0),(511,511),(255,0,0),5)"
   ]
  },
  {
   "cell_type": "code",
   "execution_count": 5,
   "metadata": {},
   "outputs": [
    {
     "data": {
      "text/plain": [
       "True"
      ]
     },
     "execution_count": 5,
     "metadata": {},
     "output_type": "execute_result"
    }
   ],
   "source": [
    "cv2.imwrite('image_2.png', image_2)"
   ]
  },
  {
   "cell_type": "code",
   "execution_count": 6,
   "metadata": {},
   "outputs": [],
   "source": [
    "import requests"
   ]
  },
  {
   "cell_type": "code",
   "execution_count": 7,
   "metadata": {},
   "outputs": [],
   "source": [
    "# Object Oriented Programming"
   ]
  },
  {
   "cell_type": "code",
   "execution_count": 8,
   "metadata": {},
   "outputs": [],
   "source": [
    "class api_tes:\n",
    "    \n",
    "    def __init__(self, url):\n",
    "        self.url = url\n",
    "        \n",
    "    def call_api(self):\n",
    "        url = self.url\n",
    "        myobj = {'source': '0', \n",
    "                'function': '1',\n",
    "                 'model' : '1',\n",
    "                }\n",
    "\n",
    "        files = {'image64': open('tes2.jpg', 'rb')}\n",
    "\n",
    "        x = requests.post(url, data = myobj, files=files,  verify=False)\n",
    "        json_result = x.json()\n",
    "        return json_result"
   ]
  },
  {
   "cell_type": "code",
   "execution_count": 9,
   "metadata": {},
   "outputs": [],
   "source": [
    "# pembuatan objek\n",
    "# 'https://comvis.labatr.id/api_v2/finger_pose/api/'"
   ]
  },
  {
   "cell_type": "code",
   "execution_count": 10,
   "metadata": {},
   "outputs": [],
   "source": [
    "api_tes_object = api_tes('https://comvis.labatr.id/api_v2/finger_pose/api/')"
   ]
  },
  {
   "cell_type": "code",
   "execution_count": 11,
   "metadata": {},
   "outputs": [
    {
     "name": "stderr",
     "output_type": "stream",
     "text": [
      "D:\\Anaconda3\\envs\\tes2\\lib\\site-packages\\urllib3\\connectionpool.py:988: InsecureRequestWarning: Unverified HTTPS request is being made to host 'comvis.labatr.id'. Adding certificate verification is strongly advised. See: https://urllib3.readthedocs.io/en/latest/advanced-usage.html#ssl-warnings\n",
      "  InsecureRequestWarning,\n"
     ]
    }
   ],
   "source": [
    "result_1 = api_tes_object.call_api()"
   ]
  },
  {
   "cell_type": "code",
   "execution_count": 12,
   "metadata": {},
   "outputs": [],
   "source": [
    "api_tes_object_2 = api_tes('https://comvis.labatr.id/api/face_recognition/api/')"
   ]
  },
  {
   "cell_type": "code",
   "execution_count": 13,
   "metadata": {},
   "outputs": [
    {
     "name": "stderr",
     "output_type": "stream",
     "text": [
      "D:\\Anaconda3\\envs\\tes2\\lib\\site-packages\\urllib3\\connectionpool.py:988: InsecureRequestWarning: Unverified HTTPS request is being made to host 'comvis.labatr.id'. Adding certificate verification is strongly advised. See: https://urllib3.readthedocs.io/en/latest/advanced-usage.html#ssl-warnings\n",
      "  InsecureRequestWarning,\n"
     ]
    }
   ],
   "source": [
    "result_2 = api_tes_object_2.call_api()"
   ]
  },
  {
   "cell_type": "code",
   "execution_count": 14,
   "metadata": {},
   "outputs": [
    {
     "data": {
      "text/plain": [
       "{'input size': {'height': 480, 'width': 640},\n",
       " 'hands': [{'keypoints': [{'keypoint_20': '468, 174, -87',\n",
       "     'keypoint_4': '216, 333, -79',\n",
       "     'keypoint_10': '367, 190, -70',\n",
       "     'keypoint_11': '367, 141, -78',\n",
       "     'keypoint_9': '372, 268, -49',\n",
       "     'keypoint_12': '366, 101, -86',\n",
       "     'keypoint_13': '409, 275, -46',\n",
       "     'keypoint_2': '292, 363, -46',\n",
       "     'keypoint_7': '308, 173, -84',\n",
       "     'keypoint_5': '333, 278, -52',\n",
       "     'keypoint_18': '455, 242, -65',\n",
       "     'keypoint_1': '334, 383, -25',\n",
       "     'keypoint_8': '301, 140, -92',\n",
       "     'keypoint_14': '411, 204, -69',\n",
       "     'keypoint_15': '410, 159, -85',\n",
       "     'keypoint_16': '408, 120, -96',\n",
       "     'keypoint_3': '253, 344, -63',\n",
       "     'keypoint_19': '464, 207, -77',\n",
       "     'keypoint_0': '392, 384, 0',\n",
       "     'keypoint_6': '316, 212, -73',\n",
       "     'keypoint_17': '442, 295, -45'}],\n",
       "   'hand_idx': 1}],\n",
       " 'image_file': 'https://comvis.labatr.id/mediav2/a1b76596-596b-4cae-8e0f-42db6c091c67.png'}"
      ]
     },
     "execution_count": 14,
     "metadata": {},
     "output_type": "execute_result"
    }
   ],
   "source": [
    "result_1"
   ]
  },
  {
   "cell_type": "code",
   "execution_count": 57,
   "metadata": {},
   "outputs": [
    {
     "data": {
      "text/plain": [
       "{'input size': {'width': 1050, 'height': 630},\n",
       " 'num boxes': 1,\n",
       " 'detection time': '0.003055572509765625 seconds',\n",
       " 'faces': [{'face_idx': '0',\n",
       "   'positions': [{'min_x': 458, 'min_y': 55, 'max_x': 585, 'max_y': 215}],\n",
       "   'confidence': '71%'}],\n",
       " 'image_file': 'https://comvis.labatr.id/media/638be468-b529-4d1f-9891-5a3d58d06c88.png'}"
      ]
     },
     "execution_count": 57,
     "metadata": {},
     "output_type": "execute_result"
    }
   ],
   "source": [
    "result_2"
   ]
  },
  {
   "cell_type": "code",
   "execution_count": null,
   "metadata": {},
   "outputs": [],
   "source": []
  }
 ],
 "metadata": {
  "kernelspec": {
   "display_name": "tes2",
   "language": "python",
   "name": "tes2"
  },
  "language_info": {
   "codemirror_mode": {
    "name": "ipython",
    "version": 3
   },
   "file_extension": ".py",
   "mimetype": "text/x-python",
   "name": "python",
   "nbconvert_exporter": "python",
   "pygments_lexer": "ipython3",
   "version": "3.6.12"
  }
 },
 "nbformat": 4,
 "nbformat_minor": 2
}
